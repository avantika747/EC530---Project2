{
  "nbformat": 4,
  "nbformat_minor": 0,
  "metadata": {
    "colab": {
      "provenance": []
    },
    "kernelspec": {
      "name": "python3",
      "display_name": "Python 3"
    },
    "language_info": {
      "name": "python"
    }
  },
  "cells": [
    {
      "cell_type": "code",
      "execution_count": 1,
      "metadata": {
        "id": "WyRFWhr6QGi2"
      },
      "outputs": [],
      "source": [
        "# SQL (relational) database was chosen for the modules in this project\n",
        "import sqlite3"
      ]
    },
    {
      "cell_type": "code",
      "source": [
        "# creating a database\n",
        "conn = sqlite3.connect('health_monitoring.db')\n",
        "\n",
        "# creating a cursor object\n",
        "cursor = conn.cursor()"
      ],
      "metadata": {
        "id": "J1DgySYRRnk-"
      },
      "execution_count": 2,
      "outputs": []
    },
    {
      "cell_type": "code",
      "source": [
        "# creating the table for MODULE 1: Authentication\n",
        "cursor.execute('''CREATE TABLE IF NOT EXISTS Authentication (\n",
        "  access_key TEXT PRIMARY KEY,\n",
        "  patient_info_access_key TEXT,\n",
        "  sensor_data_access_key TEXT,\n",
        "  report_access_key TEXT\n",
        ")''')"
      ],
      "metadata": {
        "colab": {
          "base_uri": "https://localhost:8080/"
        },
        "id": "WDueKV9iTfwC",
        "outputId": "ded18608-fa79-4129-801b-7898fb3c59ae"
      },
      "execution_count": 3,
      "outputs": [
        {
          "output_type": "execute_result",
          "data": {
            "text/plain": [
              "<sqlite3.Cursor at 0x7f988f4330c0>"
            ]
          },
          "metadata": {},
          "execution_count": 3
        }
      ]
    },
    {
      "cell_type": "code",
      "source": [
        "# creating the table for MODULE 2: Data Reading from Sensors\n",
        "cursor.execute('''CREATE TABLE IF NOT EXISTS Data_Reading (\n",
        "  device_id TEXT,\n",
        "  access_key TEXT,\n",
        "  patient_id TEXT,\n",
        "  date_timestamp TEXT,\n",
        "  vital_signs_value TEXT,\n",
        "  PRIMARY KEY (device_id, date_timestamp)\n",
        ")''')"
      ],
      "metadata": {
        "colab": {
          "base_uri": "https://localhost:8080/"
        },
        "id": "jf8M19LSU3Lc",
        "outputId": "0a223a36-4872-45db-b12c-b729f453c68a"
      },
      "execution_count": 4,
      "outputs": [
        {
          "output_type": "execute_result",
          "data": {
            "text/plain": [
              "<sqlite3.Cursor at 0x7f988f4330c0>"
            ]
          },
          "metadata": {},
          "execution_count": 4
        }
      ]
    },
    {
      "cell_type": "code",
      "source": [
        "# creating table for MODULE 3: Device Interface\n",
        "cursor.execute('''CREATE TABLE IF NOT EXISTS Device_Interface (\n",
        "                    device_id TEXT PRIMARY KEY,\n",
        "                    device_name TEXT,\n",
        "                    status TEXT\n",
        "                )''')"
      ],
      "metadata": {
        "colab": {
          "base_uri": "https://localhost:8080/"
        },
        "id": "FmxOEQ5-Vuln",
        "outputId": "74c2d89f-be12-4f79-dec3-1a60c6b712b6"
      },
      "execution_count": 5,
      "outputs": [
        {
          "output_type": "execute_result",
          "data": {
            "text/plain": [
              "<sqlite3.Cursor at 0x7f988f4330c0>"
            ]
          },
          "metadata": {},
          "execution_count": 5
        }
      ]
    },
    {
      "cell_type": "code",
      "source": [
        "# creating table for MODULE 4: Patient_Info\n",
        "cursor.execute('''CREATE TABLE IF NOT EXISTS Patient_Info (\n",
        "                    patient_id TEXT PRIMARY KEY,\n",
        "                    age INTEGER,\n",
        "                    DOB TEXT,\n",
        "                    history TEXT,\n",
        "                    gender TEXT,\n",
        "                    email_contact_number TEXT,\n",
        "                    address TEXT\n",
        "                )''')"
      ],
      "metadata": {
        "colab": {
          "base_uri": "https://localhost:8080/"
        },
        "id": "5RvgOzdYXCod",
        "outputId": "1471b437-c4e6-4b30-e252-22b9d51cafc5"
      },
      "execution_count": 6,
      "outputs": [
        {
          "output_type": "execute_result",
          "data": {
            "text/plain": [
              "<sqlite3.Cursor at 0x7f988f4330c0>"
            ]
          },
          "metadata": {},
          "execution_count": 6
        }
      ]
    },
    {
      "cell_type": "code",
      "source": [
        "# creating table for MODULE 5: Reports\n",
        "cursor.execute('''CREATE TABLE IF NOT EXISTS Reports (\n",
        "                    patient_id TEXT,\n",
        "                    date_timestamp TEXT,\n",
        "                    illness_reported TEXT,\n",
        "                    diagnosis TEXT,\n",
        "                    prognosis TEXT,\n",
        "                    given_treatment TEXT,\n",
        "                    status TEXT,\n",
        "                    doctor_id TEXT,\n",
        "                    PRIMARY KEY (patient_id, date_timestamp)\n",
        "                )''')"
      ],
      "metadata": {
        "colab": {
          "base_uri": "https://localhost:8080/"
        },
        "id": "y50glAADXOF0",
        "outputId": "8b2caa0a-3625-4352-bd4d-f904a79b7c64"
      },
      "execution_count": 7,
      "outputs": [
        {
          "output_type": "execute_result",
          "data": {
            "text/plain": [
              "<sqlite3.Cursor at 0x7f988f4330c0>"
            ]
          },
          "metadata": {},
          "execution_count": 7
        }
      ]
    },
    {
      "cell_type": "code",
      "source": [
        "# creating table for MODULE 6: Notifications\n",
        "cursor.execute('''CREATE TABLE IF NOT EXISTS Notifications (\n",
        "                    patient_id TEXT,\n",
        "                    device_id TEXT,\n",
        "                    abnormal_reading TEXT,\n",
        "                    receiving_doc_id TEXT,\n",
        "                    date_timestamp TEXT,\n",
        "                    emergency TEXT,\n",
        "                    status TEXT,\n",
        "                    PRIMARY KEY (patient_id, date_timestamp)\n",
        "                )''')"
      ],
      "metadata": {
        "colab": {
          "base_uri": "https://localhost:8080/"
        },
        "id": "VYol86VzXXMT",
        "outputId": "513e8983-741d-4cd7-c405-5f148535e2e6"
      },
      "execution_count": 8,
      "outputs": [
        {
          "output_type": "execute_result",
          "data": {
            "text/plain": [
              "<sqlite3.Cursor at 0x7f988f4330c0>"
            ]
          },
          "metadata": {},
          "execution_count": 8
        }
      ]
    },
    {
      "cell_type": "code",
      "source": [
        "# creating table for MODULE 7: User Management\n",
        "cursor.execute('''CREATE TABLE IF NOT EXISTS User_Management (\n",
        "                    user_type TEXT PRIMARY KEY,\n",
        "                    user_ids TEXT\n",
        "                )''')"
      ],
      "metadata": {
        "colab": {
          "base_uri": "https://localhost:8080/"
        },
        "id": "aGxz4vaDXcKP",
        "outputId": "e7c0e3b5-42a0-464b-dd72-f7687ca8b96a"
      },
      "execution_count": 9,
      "outputs": [
        {
          "output_type": "execute_result",
          "data": {
            "text/plain": [
              "<sqlite3.Cursor at 0x7f988f4330c0>"
            ]
          },
          "metadata": {},
          "execution_count": 9
        }
      ]
    },
    {
      "cell_type": "code",
      "source": [
        "# commiting changes\n",
        "conn.commit()"
      ],
      "metadata": {
        "id": "dwPKEbYWXmAa"
      },
      "execution_count": 10,
      "outputs": []
    },
    {
      "cell_type": "code",
      "source": [
        "conn.close()"
      ],
      "metadata": {
        "id": "YfP0Fu01b85L"
      },
      "execution_count": 11,
      "outputs": []
    },
    {
      "cell_type": "code",
      "source": [
        "# all the necessary tables of the database have been created. Now, it is time to try some basic SQL operations\n",
        "\n",
        "# inserting data\n",
        "# connecting to SQLite database\n",
        "conn = sqlite3.connect('health_monitoring.db')\n",
        "cursor = conn.cursor()\n",
        "\n",
        "# Insert data into Authentication table\n",
        "cursor.execute(\"INSERT INTO Authentication (access_key, patient_info_access_key, sensor_data_access_key, report_access_key) VALUES ('ABCD', 'EFGH', 'IJK', 'ABC')\")\n",
        "\n",
        "# Insert data into Data Reading table\n",
        "cursor.execute(\"INSERT INTO Data_Reading (device_id, access_key, patient_id, date_timestamp, vital_signs_value) VALUES ('GHK', 'GG12', 'JUMP', '2022-03-22 12:00:00', '98.4')\")\n",
        "\n",
        "# Insert data into Device Interface table\n",
        "cursor.execute(\"INSERT INTO Device_Interface (device_id, device_name, status) VALUES ('mm', 'temp_sensor', 'active')\")\n",
        "\n",
        "# Insert data into Patient Info table\n",
        "cursor.execute(\"INSERT INTO Patient_Info (patient_id, age, DOB, history, gender, email_contact_number, address) VALUES ('kk123', '30', '1992-01-01', 'frequent', 'male', 'kk12@gmail.com', 'boston')\")\n",
        "\n",
        "# Insert data into Reports table\n",
        "cursor.execute(\"INSERT INTO Reports (patient_id, date_timestamp, illness_reported, diagnosis, prognosis, given_treatment, status, doctor_id) VALUES ('kk12', '2022-03-22 12:00:00', 'fever', '104.7', 'normal progression', 'paracetamol', 'improvements observed', 'dd2')\")\n",
        "\n",
        "# Insert data into Notifications table\n",
        "cursor.execute(\"INSERT INTO Notifications (patient_id, device_id, abnormal_reading, receiving_doc_id, date_timestamp, emergency, status) VALUES ('kk12', 'temp1', '104.4', 'dd1', '2022-03-22 12:00:00', 'yes', 'check-up needed')\")\n",
        "\n",
        "# Insert data into User Management table\n",
        "cursor.execute(\"INSERT INTO User_Management (user_type, user_ids) VALUES ('patient', 'kk12, kk13')\")\n",
        "cursor.execute(\"INSERT INTO User_Management (user_type, user_ids) VALUES ('doctor', 'dd1, dd2')\")\n",
        "cursor.execute(\"INSERT INTO User_Management (user_type, user_ids) VALUES ('admin', 'ad1, ad2')\")\n",
        "\n",
        "# commiting changes\n",
        "conn.commit()\n",
        "\n",
        "print(\"Data inserted into tables successfully.\")\n"
      ],
      "metadata": {
        "colab": {
          "base_uri": "https://localhost:8080/"
        },
        "id": "3RGqNAt-Yayz",
        "outputId": "adf06fca-340d-4d21-f6a8-a8a97a883529"
      },
      "execution_count": 12,
      "outputs": [
        {
          "output_type": "stream",
          "name": "stdout",
          "text": [
            "Data inserted into tables successfully.\n"
          ]
        }
      ]
    },
    {
      "cell_type": "code",
      "source": [
        "conn.close()"
      ],
      "metadata": {
        "id": "TFf_rUX_bPAC"
      },
      "execution_count": 13,
      "outputs": []
    },
    {
      "cell_type": "code",
      "source": [
        "# now trying some sample query statements\n",
        "conn = sqlite3.connect('health_monitoring.db')\n",
        "cursor = conn.cursor()\n",
        "\n",
        "# example SELECT query\n",
        "cursor.execute(\"SELECT * FROM Patient_Info WHERE age > ?\", (40,))\n",
        "print(\"Patients older than 40 years:\")\n",
        "print(cursor.fetchall())  # Fetch all rows returned by the query\n",
        "\n",
        "# example DELETE query\n",
        "cursor.execute(\"DELETE FROM Reports WHERE date_timestamp < ?\", ('2022-01-01',))\n",
        "print(\"Deleted reports older than 2022-01-01.\")\n",
        "\n",
        "# example UPDATE query\n",
        "cursor.execute(\"UPDATE Device_Interface SET status = ? WHERE device_id = ?\", ('inactive', 'mm'))\n",
        "print(\"Status updated for device\")"
      ],
      "metadata": {
        "colab": {
          "base_uri": "https://localhost:8080/"
        },
        "id": "opVkJOcCbvXk",
        "outputId": "71041df8-33cf-4836-fb84-f77e31dd759b"
      },
      "execution_count": 15,
      "outputs": [
        {
          "output_type": "stream",
          "name": "stdout",
          "text": [
            "Patients older than 40 years:\n",
            "[]\n",
            "Deleted reports older than 2022-01-01.\n",
            "Status updated for device\n"
          ]
        }
      ]
    },
    {
      "cell_type": "code",
      "source": [
        "conn.close()"
      ],
      "metadata": {
        "id": "t8oKKvQPcjpA"
      },
      "execution_count": 16,
      "outputs": []
    },
    {
      "cell_type": "code",
      "source": [],
      "metadata": {
        "id": "H8uXVZNWdOo9"
      },
      "execution_count": null,
      "outputs": []
    }
  ]
}